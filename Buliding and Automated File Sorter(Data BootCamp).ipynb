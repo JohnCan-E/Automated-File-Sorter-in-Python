{
 "cells": [
  {
   "cell_type": "markdown",
   "id": "b28bf064",
   "metadata": {},
   "source": [
    "# Automatic File Sorter in File Explorer (Alex Data Bootcamp)"
   ]
  },
  {
   "cell_type": "code",
   "execution_count": 89,
   "id": "f45e125a",
   "metadata": {},
   "outputs": [],
   "source": [
    "import os, shutil"
   ]
  },
  {
   "cell_type": "code",
   "execution_count": 90,
   "id": "a1a794a6",
   "metadata": {},
   "outputs": [],
   "source": [
    "path=r\"C:/Users/can_e/OneDrive/Masaüstü/Data A. BootCamp -Projects/Python-AlexDataBootcamp/Automated File Sorter\""
   ]
  },
  {
   "cell_type": "code",
   "execution_count": 91,
   "id": "b39eac06",
   "metadata": {},
   "outputs": [],
   "source": [
    "file_name=os.listdir(path)"
   ]
  },
  {
   "cell_type": "code",
   "execution_count": 92,
   "id": "9e52a0eb",
   "metadata": {},
   "outputs": [
    {
     "name": "stdout",
     "output_type": "stream",
     "text": [
      "C:/Users/can_e/OneDrive/Masaüstü/Data A. BootCamp -Projects/Python-AlexDataBootcamp/Automated File Sortercsv files\n",
      "C:/Users/can_e/OneDrive/Masaüstü/Data A. BootCamp -Projects/Python-AlexDataBootcamp/Automated File Sorterimage files\n",
      "C:/Users/can_e/OneDrive/Masaüstü/Data A. BootCamp -Projects/Python-AlexDataBootcamp/Automated File Sortertext files\n"
     ]
    }
   ],
   "source": [
    "folder_names=['csv files','image files', 'text files']\n",
    "\n",
    "for i in range (0,3):\n",
    "    \n",
    "    if not os.path.exists(path + folder_names[i]):\n",
    "        print(path + folder_names[i])\n",
    "        os.path.exists(path + folder_names[i])\n",
    "        \n",
    "for file in file_name:\n",
    "    if \".csv \" in file  and not os.path.exists(path + \"csv files/\"+ file):\n",
    "        shutil.move(path + file, path + \"csv files/\" + file )\n",
    "    elif \" .png \" in file  and not os.path.exists(path + \"image files/\"+ file):\n",
    "        shutil.move(path + file, path + \"image files/\" + file )\n",
    "    elif \" .txt \" in file  and not os.path.exists(path + \"text files/\"+ file):\n",
    "        shutil.move(path + file, path + \"text files/\" + file )"
   ]
  },
  {
   "cell_type": "code",
   "execution_count": null,
   "id": "48df86c6",
   "metadata": {},
   "outputs": [],
   "source": [
    "\n",
    "    "
   ]
  },
  {
   "cell_type": "code",
   "execution_count": null,
   "id": "ab79eba9",
   "metadata": {},
   "outputs": [],
   "source": []
  },
  {
   "cell_type": "code",
   "execution_count": null,
   "id": "4b7d4ec6",
   "metadata": {},
   "outputs": [],
   "source": []
  },
  {
   "cell_type": "code",
   "execution_count": null,
   "id": "51e82e48",
   "metadata": {},
   "outputs": [],
   "source": []
  },
  {
   "cell_type": "code",
   "execution_count": null,
   "id": "f68b3f5b",
   "metadata": {},
   "outputs": [],
   "source": []
  }
 ],
 "metadata": {
  "kernelspec": {
   "display_name": "Python 3 (ipykernel)",
   "language": "python",
   "name": "python3"
  },
  "language_info": {
   "codemirror_mode": {
    "name": "ipython",
    "version": 3
   },
   "file_extension": ".py",
   "mimetype": "text/x-python",
   "name": "python",
   "nbconvert_exporter": "python",
   "pygments_lexer": "ipython3",
   "version": "3.9.13"
  }
 },
 "nbformat": 4,
 "nbformat_minor": 5
}
